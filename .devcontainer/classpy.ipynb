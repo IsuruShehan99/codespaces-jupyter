{
 "cells": [
  {
   "cell_type": "code",
   "execution_count": 1,
   "metadata": {},
   "outputs": [],
   "source": [
    "class Simpleclass:\n",
    "    pass\n",
    "\n",
    "myobj = Simpleclass()\n"
   ]
  },
  {
   "cell_type": "code",
   "execution_count": 18,
   "metadata": {},
   "outputs": [
    {
     "name": "stdout",
     "output_type": "stream",
     "text": [
      "student  IT1002  profile:name james peter course: IT\n",
      "student  IT2305  profile:name james peter course: IT\n"
     ]
    }
   ],
   "source": [
    "class student:\n",
    "    def __init__(self,id,nm,crs):\n",
    "        self.__id=id\n",
    "        self.__name=nm\n",
    "        self.__course=crs\n",
    "    def getId(self):\n",
    "        self.__id=id    \n",
    "    def setId(self,id):\n",
    "        self.__id=id      \n",
    "\n",
    "    def profile(self):\n",
    "        print(\"student \",self.__id,\" profile:name\",self.__name,\"course:\",self.__course)\n",
    "\n",
    "peter=student('IT1002','james peter','IT')\n",
    "peter.profile() \n",
    "peter.setId('IT2305')\n",
    "peter.profile() \n",
    "\n",
    "    "
   ]
  },
  {
   "cell_type": "code",
   "execution_count": 22,
   "metadata": {},
   "outputs": [
    {
     "name": "stdout",
     "output_type": "stream",
     "text": [
      "[10, 1, 30, 5]\n",
      "4\n"
     ]
    },
    {
     "data": {
      "text/plain": [
       "30"
      ]
     },
     "execution_count": 22,
     "metadata": {},
     "output_type": "execute_result"
    }
   ],
   "source": [
    "class Stack:\n",
    "    def __init__(self):\n",
    "        self.__mystack = []\n",
    "\n",
    "    def push(self, ele):\n",
    "        self.__mystack.append(ele)\n",
    "\n",
    "    def pop(self):\n",
    "        lstEle = self.__mystack[-1]\n",
    "        del self.__mystack[-1]\n",
    "        return lstEle\n",
    "\n",
    "    def printStack(self):\n",
    "        print(self.__mystack)\n",
    "\n",
    "class TrackStack(Stack):\n",
    "    def __init__(self):\n",
    "        super().__init__()\n",
    "        self.__t=0\n",
    "\n",
    "    def push(self,ele):\n",
    "        self.__t+=1\n",
    "        super().push(ele)\n",
    "\n",
    "    def pop(self):\n",
    "        self.__t -= 1\n",
    "        return super().pop()\n",
    "\n",
    "    def count(self):\n",
    "        return self.__t\n",
    "    \n",
    "stack1 = TrackStack()\n",
    "stack1.push(10)\n",
    "stack1.push(1)\n",
    "stack1.push(30)\n",
    "stack1.push(5)\n",
    "stack1.printStack()\n",
    "print(stack1.count())\n",
    "stack1.pop()\n",
    "stack1.pop()\n",
    "\n",
    "\n"
   ]
  },
  {
   "cell_type": "code",
   "execution_count": 20,
   "metadata": {},
   "outputs": [
    {
     "name": "stdout",
     "output_type": "stream",
     "text": [
      "My name is: Jimmy\n",
      "Woof!\n",
      "My name is: Dane\n",
      "Meow!\n"
     ]
    }
   ],
   "source": [
    "class Animal:\n",
    "    def __init__(self, name):\n",
    "        self.__name = name\n",
    "        print(\"My name is:\",name)\n",
    "\n",
    "    def make_sound(self):\n",
    "        pass\n",
    "\n",
    "class Dog(Animal):\n",
    "    def make_sound(self):\n",
    "        print('Woof!')\n",
    "\n",
    "class Cat(Animal):\n",
    "    def make_sound(self):\n",
    "        print('Meow!')\n",
    "\n",
    "dog=Dog(\"Jimmy\")\n",
    "dog.make_sound()\n",
    "cat=Cat(\"Dane\")\n",
    "cat.make_sound()\n"
   ]
  },
  {
   "cell_type": "code",
   "execution_count": null,
   "metadata": {},
   "outputs": [],
   "source": []
  }
 ],
 "metadata": {
  "kernelspec": {
   "display_name": "Python 3",
   "language": "python",
   "name": "python3"
  },
  "language_info": {
   "codemirror_mode": {
    "name": "ipython",
    "version": 3
   },
   "file_extension": ".py",
   "mimetype": "text/x-python",
   "name": "python",
   "nbconvert_exporter": "python",
   "pygments_lexer": "ipython3",
   "version": "3.10.13"
  }
 },
 "nbformat": 4,
 "nbformat_minor": 2
}
